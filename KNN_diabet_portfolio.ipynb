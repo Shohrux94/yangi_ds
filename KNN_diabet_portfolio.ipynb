{
  "nbformat": 4,
  "nbformat_minor": 0,
  "metadata": {
    "colab": {
      "name": "KNN_diabet_portfolio.ipynb",
      "provenance": [],
      "collapsed_sections": [],
      "authorship_tag": "ABX9TyP0CxZZ5GrtVCEbUJ6Abxir",
      "include_colab_link": true
    },
    "kernelspec": {
      "name": "python3",
      "display_name": "Python 3"
    },
    "language_info": {
      "name": "python"
    }
  },
  "cells": [
    {
      "cell_type": "markdown",
      "metadata": {
        "id": "view-in-github",
        "colab_type": "text"
      },
      "source": [
        "<a href=\"https://colab.research.google.com/github/Shohrux94/yangi_ds/blob/main/KNN_diabet_portfolio.ipynb\" target=\"_parent\"><img src=\"https://colab.research.google.com/assets/colab-badge.svg\" alt=\"Open In Colab\"/></a>"
      ]
    },
    {
      "cell_type": "code",
      "execution_count": 150,
      "metadata": {
        "id": "YkKZakvPP899"
      },
      "outputs": [],
      "source": [
        "import pandas as pd\n",
        "import numpy as np\n",
        "import sklearn\n",
        "import matplotlib.pyplot as plt\n",
        "import seaborn as sns\n",
        "%matplotlib inline"
      ]
    },
    {
      "cell_type": "code",
      "source": [
        "df = pd.read_csv('https://raw.githubusercontent.com/anvarnarz/praktikum_datasets/main/diabetes.csv')\n",
        "df.head()"
      ],
      "metadata": {
        "colab": {
          "base_uri": "https://localhost:8080/",
          "height": 206
        },
        "id": "RGN80ks-QSGW",
        "outputId": "c67b446a-255a-4d21-997d-1f18f8a7429f"
      },
      "execution_count": 151,
      "outputs": [
        {
          "output_type": "execute_result",
          "data": {
            "text/plain": [
              "   Pregnancies  Glucose  BloodPressure  SkinThickness  Insulin   BMI  \\\n",
              "0            6      148             72             35        0  33.6   \n",
              "1            1       85             66             29        0  26.6   \n",
              "2            8      183             64              0        0  23.3   \n",
              "3            1       89             66             23       94  28.1   \n",
              "4            0      137             40             35      168  43.1   \n",
              "\n",
              "   DiabetesPedigreeFunction  Age  Outcome  \n",
              "0                     0.627   50        1  \n",
              "1                     0.351   31        0  \n",
              "2                     0.672   32        1  \n",
              "3                     0.167   21        0  \n",
              "4                     2.288   33        1  "
            ],
            "text/html": [
              "\n",
              "  <div id=\"df-bbcbabcb-ed6a-4d0e-9d10-33e1de18efcb\">\n",
              "    <div class=\"colab-df-container\">\n",
              "      <div>\n",
              "<style scoped>\n",
              "    .dataframe tbody tr th:only-of-type {\n",
              "        vertical-align: middle;\n",
              "    }\n",
              "\n",
              "    .dataframe tbody tr th {\n",
              "        vertical-align: top;\n",
              "    }\n",
              "\n",
              "    .dataframe thead th {\n",
              "        text-align: right;\n",
              "    }\n",
              "</style>\n",
              "<table border=\"1\" class=\"dataframe\">\n",
              "  <thead>\n",
              "    <tr style=\"text-align: right;\">\n",
              "      <th></th>\n",
              "      <th>Pregnancies</th>\n",
              "      <th>Glucose</th>\n",
              "      <th>BloodPressure</th>\n",
              "      <th>SkinThickness</th>\n",
              "      <th>Insulin</th>\n",
              "      <th>BMI</th>\n",
              "      <th>DiabetesPedigreeFunction</th>\n",
              "      <th>Age</th>\n",
              "      <th>Outcome</th>\n",
              "    </tr>\n",
              "  </thead>\n",
              "  <tbody>\n",
              "    <tr>\n",
              "      <th>0</th>\n",
              "      <td>6</td>\n",
              "      <td>148</td>\n",
              "      <td>72</td>\n",
              "      <td>35</td>\n",
              "      <td>0</td>\n",
              "      <td>33.6</td>\n",
              "      <td>0.627</td>\n",
              "      <td>50</td>\n",
              "      <td>1</td>\n",
              "    </tr>\n",
              "    <tr>\n",
              "      <th>1</th>\n",
              "      <td>1</td>\n",
              "      <td>85</td>\n",
              "      <td>66</td>\n",
              "      <td>29</td>\n",
              "      <td>0</td>\n",
              "      <td>26.6</td>\n",
              "      <td>0.351</td>\n",
              "      <td>31</td>\n",
              "      <td>0</td>\n",
              "    </tr>\n",
              "    <tr>\n",
              "      <th>2</th>\n",
              "      <td>8</td>\n",
              "      <td>183</td>\n",
              "      <td>64</td>\n",
              "      <td>0</td>\n",
              "      <td>0</td>\n",
              "      <td>23.3</td>\n",
              "      <td>0.672</td>\n",
              "      <td>32</td>\n",
              "      <td>1</td>\n",
              "    </tr>\n",
              "    <tr>\n",
              "      <th>3</th>\n",
              "      <td>1</td>\n",
              "      <td>89</td>\n",
              "      <td>66</td>\n",
              "      <td>23</td>\n",
              "      <td>94</td>\n",
              "      <td>28.1</td>\n",
              "      <td>0.167</td>\n",
              "      <td>21</td>\n",
              "      <td>0</td>\n",
              "    </tr>\n",
              "    <tr>\n",
              "      <th>4</th>\n",
              "      <td>0</td>\n",
              "      <td>137</td>\n",
              "      <td>40</td>\n",
              "      <td>35</td>\n",
              "      <td>168</td>\n",
              "      <td>43.1</td>\n",
              "      <td>2.288</td>\n",
              "      <td>33</td>\n",
              "      <td>1</td>\n",
              "    </tr>\n",
              "  </tbody>\n",
              "</table>\n",
              "</div>\n",
              "      <button class=\"colab-df-convert\" onclick=\"convertToInteractive('df-bbcbabcb-ed6a-4d0e-9d10-33e1de18efcb')\"\n",
              "              title=\"Convert this dataframe to an interactive table.\"\n",
              "              style=\"display:none;\">\n",
              "        \n",
              "  <svg xmlns=\"http://www.w3.org/2000/svg\" height=\"24px\"viewBox=\"0 0 24 24\"\n",
              "       width=\"24px\">\n",
              "    <path d=\"M0 0h24v24H0V0z\" fill=\"none\"/>\n",
              "    <path d=\"M18.56 5.44l.94 2.06.94-2.06 2.06-.94-2.06-.94-.94-2.06-.94 2.06-2.06.94zm-11 1L8.5 8.5l.94-2.06 2.06-.94-2.06-.94L8.5 2.5l-.94 2.06-2.06.94zm10 10l.94 2.06.94-2.06 2.06-.94-2.06-.94-.94-2.06-.94 2.06-2.06.94z\"/><path d=\"M17.41 7.96l-1.37-1.37c-.4-.4-.92-.59-1.43-.59-.52 0-1.04.2-1.43.59L10.3 9.45l-7.72 7.72c-.78.78-.78 2.05 0 2.83L4 21.41c.39.39.9.59 1.41.59.51 0 1.02-.2 1.41-.59l7.78-7.78 2.81-2.81c.8-.78.8-2.07 0-2.86zM5.41 20L4 18.59l7.72-7.72 1.47 1.35L5.41 20z\"/>\n",
              "  </svg>\n",
              "      </button>\n",
              "      \n",
              "  <style>\n",
              "    .colab-df-container {\n",
              "      display:flex;\n",
              "      flex-wrap:wrap;\n",
              "      gap: 12px;\n",
              "    }\n",
              "\n",
              "    .colab-df-convert {\n",
              "      background-color: #E8F0FE;\n",
              "      border: none;\n",
              "      border-radius: 50%;\n",
              "      cursor: pointer;\n",
              "      display: none;\n",
              "      fill: #1967D2;\n",
              "      height: 32px;\n",
              "      padding: 0 0 0 0;\n",
              "      width: 32px;\n",
              "    }\n",
              "\n",
              "    .colab-df-convert:hover {\n",
              "      background-color: #E2EBFA;\n",
              "      box-shadow: 0px 1px 2px rgba(60, 64, 67, 0.3), 0px 1px 3px 1px rgba(60, 64, 67, 0.15);\n",
              "      fill: #174EA6;\n",
              "    }\n",
              "\n",
              "    [theme=dark] .colab-df-convert {\n",
              "      background-color: #3B4455;\n",
              "      fill: #D2E3FC;\n",
              "    }\n",
              "\n",
              "    [theme=dark] .colab-df-convert:hover {\n",
              "      background-color: #434B5C;\n",
              "      box-shadow: 0px 1px 3px 1px rgba(0, 0, 0, 0.15);\n",
              "      filter: drop-shadow(0px 1px 2px rgba(0, 0, 0, 0.3));\n",
              "      fill: #FFFFFF;\n",
              "    }\n",
              "  </style>\n",
              "\n",
              "      <script>\n",
              "        const buttonEl =\n",
              "          document.querySelector('#df-bbcbabcb-ed6a-4d0e-9d10-33e1de18efcb button.colab-df-convert');\n",
              "        buttonEl.style.display =\n",
              "          google.colab.kernel.accessAllowed ? 'block' : 'none';\n",
              "\n",
              "        async function convertToInteractive(key) {\n",
              "          const element = document.querySelector('#df-bbcbabcb-ed6a-4d0e-9d10-33e1de18efcb');\n",
              "          const dataTable =\n",
              "            await google.colab.kernel.invokeFunction('convertToInteractive',\n",
              "                                                     [key], {});\n",
              "          if (!dataTable) return;\n",
              "\n",
              "          const docLinkHtml = 'Like what you see? Visit the ' +\n",
              "            '<a target=\"_blank\" href=https://colab.research.google.com/notebooks/data_table.ipynb>data table notebook</a>'\n",
              "            + ' to learn more about interactive tables.';\n",
              "          element.innerHTML = '';\n",
              "          dataTable['output_type'] = 'display_data';\n",
              "          await google.colab.output.renderOutput(dataTable, element);\n",
              "          const docLink = document.createElement('div');\n",
              "          docLink.innerHTML = docLinkHtml;\n",
              "          element.appendChild(docLink);\n",
              "        }\n",
              "      </script>\n",
              "    </div>\n",
              "  </div>\n",
              "  "
            ]
          },
          "metadata": {},
          "execution_count": 151
        }
      ]
    },
    {
      "cell_type": "code",
      "source": [
        "df.info()"
      ],
      "metadata": {
        "colab": {
          "base_uri": "https://localhost:8080/"
        },
        "id": "t8iY99WSQ2vz",
        "outputId": "181209e8-7ef4-408d-b808-a7450fd68d1d"
      },
      "execution_count": 152,
      "outputs": [
        {
          "output_type": "stream",
          "name": "stdout",
          "text": [
            "<class 'pandas.core.frame.DataFrame'>\n",
            "RangeIndex: 768 entries, 0 to 767\n",
            "Data columns (total 9 columns):\n",
            " #   Column                    Non-Null Count  Dtype  \n",
            "---  ------                    --------------  -----  \n",
            " 0   Pregnancies               768 non-null    int64  \n",
            " 1   Glucose                   768 non-null    int64  \n",
            " 2   BloodPressure             768 non-null    int64  \n",
            " 3   SkinThickness             768 non-null    int64  \n",
            " 4   Insulin                   768 non-null    int64  \n",
            " 5   BMI                       768 non-null    float64\n",
            " 6   DiabetesPedigreeFunction  768 non-null    float64\n",
            " 7   Age                       768 non-null    int64  \n",
            " 8   Outcome                   768 non-null    int64  \n",
            "dtypes: float64(2), int64(7)\n",
            "memory usage: 54.1 KB\n"
          ]
        }
      ]
    },
    {
      "cell_type": "code",
      "source": [
        "df.isnull().sum()"
      ],
      "metadata": {
        "colab": {
          "base_uri": "https://localhost:8080/"
        },
        "id": "ugb8E0ZvSOlc",
        "outputId": "da4056ba-0bbf-4380-8cd0-47362d863bb3"
      },
      "execution_count": 153,
      "outputs": [
        {
          "output_type": "execute_result",
          "data": {
            "text/plain": [
              "Pregnancies                 0\n",
              "Glucose                     0\n",
              "BloodPressure               0\n",
              "SkinThickness               0\n",
              "Insulin                     0\n",
              "BMI                         0\n",
              "DiabetesPedigreeFunction    0\n",
              "Age                         0\n",
              "Outcome                     0\n",
              "dtype: int64"
            ]
          },
          "metadata": {},
          "execution_count": 153
        }
      ]
    },
    {
      "cell_type": "code",
      "source": [
        "df.shape"
      ],
      "metadata": {
        "colab": {
          "base_uri": "https://localhost:8080/"
        },
        "id": "-X6bhKucSURJ",
        "outputId": "facf23ec-9a38-403f-da0b-bc157aed3c3b"
      },
      "execution_count": 154,
      "outputs": [
        {
          "output_type": "execute_result",
          "data": {
            "text/plain": [
              "(768, 9)"
            ]
          },
          "metadata": {},
          "execution_count": 154
        }
      ]
    },
    {
      "cell_type": "code",
      "source": [
        "df['Outcome'].value_counts()"
      ],
      "metadata": {
        "colab": {
          "base_uri": "https://localhost:8080/"
        },
        "id": "64YZlwMZSYuO",
        "outputId": "cca7e9dd-d6d0-40f1-f136-75c5cfa08636"
      },
      "execution_count": 155,
      "outputs": [
        {
          "output_type": "execute_result",
          "data": {
            "text/plain": [
              "0    500\n",
              "1    268\n",
              "Name: Outcome, dtype: int64"
            ]
          },
          "metadata": {},
          "execution_count": 155
        }
      ]
    },
    {
      "cell_type": "code",
      "source": [
        "corr_matrix = df.corr().abs()\n",
        "corr_matrix.style.background_gradient(cmap='crest')"
      ],
      "metadata": {
        "colab": {
          "base_uri": "https://localhost:8080/",
          "height": 331
        },
        "id": "wR1H8VvAShgR",
        "outputId": "e5ac5ab8-f294-443a-dfed-28c70d9d0a07"
      },
      "execution_count": 156,
      "outputs": [
        {
          "output_type": "execute_result",
          "data": {
            "text/plain": [
              "<pandas.io.formats.style.Styler at 0x7fad468aa150>"
            ],
            "text/html": [
              "<style type=\"text/css\">\n",
              "#T_ec9cd_row0_col0, #T_ec9cd_row1_col1, #T_ec9cd_row2_col2, #T_ec9cd_row3_col3, #T_ec9cd_row4_col4, #T_ec9cd_row5_col5, #T_ec9cd_row6_col6, #T_ec9cd_row7_col7, #T_ec9cd_row8_col8 {\n",
              "  background-color: #2c3172;\n",
              "  color: #f1f1f1;\n",
              "}\n",
              "#T_ec9cd_row0_col1 {\n",
              "  background-color: #90c391;\n",
              "  color: #000000;\n",
              "}\n",
              "#T_ec9cd_row0_col2 {\n",
              "  background-color: #88bf91;\n",
              "  color: #000000;\n",
              "}\n",
              "#T_ec9cd_row0_col3, #T_ec9cd_row8_col2 {\n",
              "  background-color: #9eca91;\n",
              "  color: #000000;\n",
              "}\n",
              "#T_ec9cd_row0_col4 {\n",
              "  background-color: #9cc891;\n",
              "  color: #000000;\n",
              "}\n",
              "#T_ec9cd_row0_col5, #T_ec9cd_row0_col6, #T_ec9cd_row1_col3, #T_ec9cd_row2_col8, #T_ec9cd_row3_col1, #T_ec9cd_row5_col0, #T_ec9cd_row5_col7, #T_ec9cd_row6_col2, #T_ec9cd_row6_col7, #T_ec9cd_row7_col4, #T_ec9cd_row7_col6 {\n",
              "  background-color: #a5cd90;\n",
              "  color: #000000;\n",
              "}\n",
              "#T_ec9cd_row0_col7 {\n",
              "  background-color: #2f818d;\n",
              "  color: #f1f1f1;\n",
              "}\n",
              "#T_ec9cd_row0_col8 {\n",
              "  background-color: #76b791;\n",
              "  color: #f1f1f1;\n",
              "}\n",
              "#T_ec9cd_row1_col0, #T_ec9cd_row1_col2, #T_ec9cd_row6_col8 {\n",
              "  background-color: #85bd91;\n",
              "  color: #000000;\n",
              "}\n",
              "#T_ec9cd_row1_col4 {\n",
              "  background-color: #56a390;\n",
              "  color: #f1f1f1;\n",
              "}\n",
              "#T_ec9cd_row1_col5, #T_ec9cd_row8_col0 {\n",
              "  background-color: #6bb190;\n",
              "  color: #f1f1f1;\n",
              "}\n",
              "#T_ec9cd_row1_col6 {\n",
              "  background-color: #87be91;\n",
              "  color: #000000;\n",
              "}\n",
              "#T_ec9cd_row1_col7 {\n",
              "  background-color: #64ad90;\n",
              "  color: #f1f1f1;\n",
              "}\n",
              "#T_ec9cd_row1_col8 {\n",
              "  background-color: #40908e;\n",
              "  color: #f1f1f1;\n",
              "}\n",
              "#T_ec9cd_row2_col0, #T_ec9cd_row6_col5 {\n",
              "  background-color: #81bc91;\n",
              "  color: #000000;\n",
              "}\n",
              "#T_ec9cd_row2_col1 {\n",
              "  background-color: #89bf91;\n",
              "  color: #000000;\n",
              "}\n",
              "#T_ec9cd_row2_col3, #T_ec9cd_row4_col6 {\n",
              "  background-color: #78b891;\n",
              "  color: #f1f1f1;\n",
              "}\n",
              "#T_ec9cd_row2_col4, #T_ec9cd_row4_col2 {\n",
              "  background-color: #98c691;\n",
              "  color: #000000;\n",
              "}\n",
              "#T_ec9cd_row2_col5 {\n",
              "  background-color: #5da890;\n",
              "  color: #f1f1f1;\n",
              "}\n",
              "#T_ec9cd_row2_col6, #T_ec9cd_row3_col8, #T_ec9cd_row4_col7 {\n",
              "  background-color: #a3cc91;\n",
              "  color: #000000;\n",
              "}\n",
              "#T_ec9cd_row2_col7, #T_ec9cd_row8_col7 {\n",
              "  background-color: #6ab090;\n",
              "  color: #f1f1f1;\n",
              "}\n",
              "#T_ec9cd_row3_col0 {\n",
              "  background-color: #93c491;\n",
              "  color: #000000;\n",
              "}\n",
              "#T_ec9cd_row3_col2, #T_ec9cd_row5_col1 {\n",
              "  background-color: #74b690;\n",
              "  color: #f1f1f1;\n",
              "}\n",
              "#T_ec9cd_row3_col4 {\n",
              "  background-color: #42928f;\n",
              "  color: #f1f1f1;\n",
              "}\n",
              "#T_ec9cd_row3_col5 {\n",
              "  background-color: #47978f;\n",
              "  color: #f1f1f1;\n",
              "}\n",
              "#T_ec9cd_row3_col6 {\n",
              "  background-color: #79b891;\n",
              "  color: #f1f1f1;\n",
              "}\n",
              "#T_ec9cd_row3_col7, #T_ec9cd_row6_col1 {\n",
              "  background-color: #8ec291;\n",
              "  color: #000000;\n",
              "}\n",
              "#T_ec9cd_row4_col0 {\n",
              "  background-color: #95c591;\n",
              "  color: #000000;\n",
              "}\n",
              "#T_ec9cd_row4_col1 {\n",
              "  background-color: #58a590;\n",
              "  color: #f1f1f1;\n",
              "}\n",
              "#T_ec9cd_row4_col3 {\n",
              "  background-color: #43948f;\n",
              "  color: #f1f1f1;\n",
              "}\n",
              "#T_ec9cd_row4_col5 {\n",
              "  background-color: #72b490;\n",
              "  color: #f1f1f1;\n",
              "}\n",
              "#T_ec9cd_row4_col8 {\n",
              "  background-color: #92c491;\n",
              "  color: #000000;\n",
              "}\n",
              "#T_ec9cd_row5_col2 {\n",
              "  background-color: #61aa90;\n",
              "  color: #f1f1f1;\n",
              "}\n",
              "#T_ec9cd_row5_col3 {\n",
              "  background-color: #4b9b90;\n",
              "  color: #f1f1f1;\n",
              "}\n",
              "#T_ec9cd_row5_col4 {\n",
              "  background-color: #77b791;\n",
              "  color: #f1f1f1;\n",
              "}\n",
              "#T_ec9cd_row5_col6 {\n",
              "  background-color: #86be91;\n",
              "  color: #000000;\n",
              "}\n",
              "#T_ec9cd_row5_col8 {\n",
              "  background-color: #62ac90;\n",
              "  color: #f1f1f1;\n",
              "}\n",
              "#T_ec9cd_row6_col0, #T_ec9cd_row7_col5, #T_ec9cd_row8_col3 {\n",
              "  background-color: #a0cb91;\n",
              "  color: #000000;\n",
              "}\n",
              "#T_ec9cd_row6_col3 {\n",
              "  background-color: #7fbb91;\n",
              "  color: #000000;\n",
              "}\n",
              "#T_ec9cd_row6_col4 {\n",
              "  background-color: #7bb991;\n",
              "  color: #000000;\n",
              "}\n",
              "#T_ec9cd_row7_col0 {\n",
              "  background-color: #2d808c;\n",
              "  color: #f1f1f1;\n",
              "}\n",
              "#T_ec9cd_row7_col1 {\n",
              "  background-color: #69b090;\n",
              "  color: #f1f1f1;\n",
              "}\n",
              "#T_ec9cd_row7_col2 {\n",
              "  background-color: #6cb190;\n",
              "  color: #f1f1f1;\n",
              "}\n",
              "#T_ec9cd_row7_col3 {\n",
              "  background-color: #94c591;\n",
              "  color: #000000;\n",
              "}\n",
              "#T_ec9cd_row7_col8 {\n",
              "  background-color: #71b490;\n",
              "  color: #f1f1f1;\n",
              "}\n",
              "#T_ec9cd_row8_col1 {\n",
              "  background-color: #3e8f8e;\n",
              "  color: #f1f1f1;\n",
              "}\n",
              "#T_ec9cd_row8_col4 {\n",
              "  background-color: #8bc191;\n",
              "  color: #000000;\n",
              "}\n",
              "#T_ec9cd_row8_col5 {\n",
              "  background-color: #5ba690;\n",
              "  color: #f1f1f1;\n",
              "}\n",
              "#T_ec9cd_row8_col6 {\n",
              "  background-color: #7cb991;\n",
              "  color: #000000;\n",
              "}\n",
              "</style>\n",
              "<table id=\"T_ec9cd_\" class=\"dataframe\">\n",
              "  <thead>\n",
              "    <tr>\n",
              "      <th class=\"blank level0\" >&nbsp;</th>\n",
              "      <th class=\"col_heading level0 col0\" >Pregnancies</th>\n",
              "      <th class=\"col_heading level0 col1\" >Glucose</th>\n",
              "      <th class=\"col_heading level0 col2\" >BloodPressure</th>\n",
              "      <th class=\"col_heading level0 col3\" >SkinThickness</th>\n",
              "      <th class=\"col_heading level0 col4\" >Insulin</th>\n",
              "      <th class=\"col_heading level0 col5\" >BMI</th>\n",
              "      <th class=\"col_heading level0 col6\" >DiabetesPedigreeFunction</th>\n",
              "      <th class=\"col_heading level0 col7\" >Age</th>\n",
              "      <th class=\"col_heading level0 col8\" >Outcome</th>\n",
              "    </tr>\n",
              "  </thead>\n",
              "  <tbody>\n",
              "    <tr>\n",
              "      <th id=\"T_ec9cd_level0_row0\" class=\"row_heading level0 row0\" >Pregnancies</th>\n",
              "      <td id=\"T_ec9cd_row0_col0\" class=\"data row0 col0\" >1.000000</td>\n",
              "      <td id=\"T_ec9cd_row0_col1\" class=\"data row0 col1\" >0.129459</td>\n",
              "      <td id=\"T_ec9cd_row0_col2\" class=\"data row0 col2\" >0.141282</td>\n",
              "      <td id=\"T_ec9cd_row0_col3\" class=\"data row0 col3\" >0.081672</td>\n",
              "      <td id=\"T_ec9cd_row0_col4\" class=\"data row0 col4\" >0.073535</td>\n",
              "      <td id=\"T_ec9cd_row0_col5\" class=\"data row0 col5\" >0.017683</td>\n",
              "      <td id=\"T_ec9cd_row0_col6\" class=\"data row0 col6\" >0.033523</td>\n",
              "      <td id=\"T_ec9cd_row0_col7\" class=\"data row0 col7\" >0.544341</td>\n",
              "      <td id=\"T_ec9cd_row0_col8\" class=\"data row0 col8\" >0.221898</td>\n",
              "    </tr>\n",
              "    <tr>\n",
              "      <th id=\"T_ec9cd_level0_row1\" class=\"row_heading level0 row1\" >Glucose</th>\n",
              "      <td id=\"T_ec9cd_row1_col0\" class=\"data row1 col0\" >0.129459</td>\n",
              "      <td id=\"T_ec9cd_row1_col1\" class=\"data row1 col1\" >1.000000</td>\n",
              "      <td id=\"T_ec9cd_row1_col2\" class=\"data row1 col2\" >0.152590</td>\n",
              "      <td id=\"T_ec9cd_row1_col3\" class=\"data row1 col3\" >0.057328</td>\n",
              "      <td id=\"T_ec9cd_row1_col4\" class=\"data row1 col4\" >0.331357</td>\n",
              "      <td id=\"T_ec9cd_row1_col5\" class=\"data row1 col5\" >0.221071</td>\n",
              "      <td id=\"T_ec9cd_row1_col6\" class=\"data row1 col6\" >0.137337</td>\n",
              "      <td id=\"T_ec9cd_row1_col7\" class=\"data row1 col7\" >0.263514</td>\n",
              "      <td id=\"T_ec9cd_row1_col8\" class=\"data row1 col8\" >0.466581</td>\n",
              "    </tr>\n",
              "    <tr>\n",
              "      <th id=\"T_ec9cd_level0_row2\" class=\"row_heading level0 row2\" >BloodPressure</th>\n",
              "      <td id=\"T_ec9cd_row2_col0\" class=\"data row2 col0\" >0.141282</td>\n",
              "      <td id=\"T_ec9cd_row2_col1\" class=\"data row2 col1\" >0.152590</td>\n",
              "      <td id=\"T_ec9cd_row2_col2\" class=\"data row2 col2\" >1.000000</td>\n",
              "      <td id=\"T_ec9cd_row2_col3\" class=\"data row2 col3\" >0.207371</td>\n",
              "      <td id=\"T_ec9cd_row2_col4\" class=\"data row2 col4\" >0.088933</td>\n",
              "      <td id=\"T_ec9cd_row2_col5\" class=\"data row2 col5\" >0.281805</td>\n",
              "      <td id=\"T_ec9cd_row2_col6\" class=\"data row2 col6\" >0.041265</td>\n",
              "      <td id=\"T_ec9cd_row2_col7\" class=\"data row2 col7\" >0.239528</td>\n",
              "      <td id=\"T_ec9cd_row2_col8\" class=\"data row2 col8\" >0.065068</td>\n",
              "    </tr>\n",
              "    <tr>\n",
              "      <th id=\"T_ec9cd_level0_row3\" class=\"row_heading level0 row3\" >SkinThickness</th>\n",
              "      <td id=\"T_ec9cd_row3_col0\" class=\"data row3 col0\" >0.081672</td>\n",
              "      <td id=\"T_ec9cd_row3_col1\" class=\"data row3 col1\" >0.057328</td>\n",
              "      <td id=\"T_ec9cd_row3_col2\" class=\"data row3 col2\" >0.207371</td>\n",
              "      <td id=\"T_ec9cd_row3_col3\" class=\"data row3 col3\" >1.000000</td>\n",
              "      <td id=\"T_ec9cd_row3_col4\" class=\"data row3 col4\" >0.436783</td>\n",
              "      <td id=\"T_ec9cd_row3_col5\" class=\"data row3 col5\" >0.392573</td>\n",
              "      <td id=\"T_ec9cd_row3_col6\" class=\"data row3 col6\" >0.183928</td>\n",
              "      <td id=\"T_ec9cd_row3_col7\" class=\"data row3 col7\" >0.113970</td>\n",
              "      <td id=\"T_ec9cd_row3_col8\" class=\"data row3 col8\" >0.074752</td>\n",
              "    </tr>\n",
              "    <tr>\n",
              "      <th id=\"T_ec9cd_level0_row4\" class=\"row_heading level0 row4\" >Insulin</th>\n",
              "      <td id=\"T_ec9cd_row4_col0\" class=\"data row4 col0\" >0.073535</td>\n",
              "      <td id=\"T_ec9cd_row4_col1\" class=\"data row4 col1\" >0.331357</td>\n",
              "      <td id=\"T_ec9cd_row4_col2\" class=\"data row4 col2\" >0.088933</td>\n",
              "      <td id=\"T_ec9cd_row4_col3\" class=\"data row4 col3\" >0.436783</td>\n",
              "      <td id=\"T_ec9cd_row4_col4\" class=\"data row4 col4\" >1.000000</td>\n",
              "      <td id=\"T_ec9cd_row4_col5\" class=\"data row4 col5\" >0.197859</td>\n",
              "      <td id=\"T_ec9cd_row4_col6\" class=\"data row4 col6\" >0.185071</td>\n",
              "      <td id=\"T_ec9cd_row4_col7\" class=\"data row4 col7\" >0.042163</td>\n",
              "      <td id=\"T_ec9cd_row4_col8\" class=\"data row4 col8\" >0.130548</td>\n",
              "    </tr>\n",
              "    <tr>\n",
              "      <th id=\"T_ec9cd_level0_row5\" class=\"row_heading level0 row5\" >BMI</th>\n",
              "      <td id=\"T_ec9cd_row5_col0\" class=\"data row5 col0\" >0.017683</td>\n",
              "      <td id=\"T_ec9cd_row5_col1\" class=\"data row5 col1\" >0.221071</td>\n",
              "      <td id=\"T_ec9cd_row5_col2\" class=\"data row5 col2\" >0.281805</td>\n",
              "      <td id=\"T_ec9cd_row5_col3\" class=\"data row5 col3\" >0.392573</td>\n",
              "      <td id=\"T_ec9cd_row5_col4\" class=\"data row5 col4\" >0.197859</td>\n",
              "      <td id=\"T_ec9cd_row5_col5\" class=\"data row5 col5\" >1.000000</td>\n",
              "      <td id=\"T_ec9cd_row5_col6\" class=\"data row5 col6\" >0.140647</td>\n",
              "      <td id=\"T_ec9cd_row5_col7\" class=\"data row5 col7\" >0.036242</td>\n",
              "      <td id=\"T_ec9cd_row5_col8\" class=\"data row5 col8\" >0.292695</td>\n",
              "    </tr>\n",
              "    <tr>\n",
              "      <th id=\"T_ec9cd_level0_row6\" class=\"row_heading level0 row6\" >DiabetesPedigreeFunction</th>\n",
              "      <td id=\"T_ec9cd_row6_col0\" class=\"data row6 col0\" >0.033523</td>\n",
              "      <td id=\"T_ec9cd_row6_col1\" class=\"data row6 col1\" >0.137337</td>\n",
              "      <td id=\"T_ec9cd_row6_col2\" class=\"data row6 col2\" >0.041265</td>\n",
              "      <td id=\"T_ec9cd_row6_col3\" class=\"data row6 col3\" >0.183928</td>\n",
              "      <td id=\"T_ec9cd_row6_col4\" class=\"data row6 col4\" >0.185071</td>\n",
              "      <td id=\"T_ec9cd_row6_col5\" class=\"data row6 col5\" >0.140647</td>\n",
              "      <td id=\"T_ec9cd_row6_col6\" class=\"data row6 col6\" >1.000000</td>\n",
              "      <td id=\"T_ec9cd_row6_col7\" class=\"data row6 col7\" >0.033561</td>\n",
              "      <td id=\"T_ec9cd_row6_col8\" class=\"data row6 col8\" >0.173844</td>\n",
              "    </tr>\n",
              "    <tr>\n",
              "      <th id=\"T_ec9cd_level0_row7\" class=\"row_heading level0 row7\" >Age</th>\n",
              "      <td id=\"T_ec9cd_row7_col0\" class=\"data row7 col0\" >0.544341</td>\n",
              "      <td id=\"T_ec9cd_row7_col1\" class=\"data row7 col1\" >0.263514</td>\n",
              "      <td id=\"T_ec9cd_row7_col2\" class=\"data row7 col2\" >0.239528</td>\n",
              "      <td id=\"T_ec9cd_row7_col3\" class=\"data row7 col3\" >0.113970</td>\n",
              "      <td id=\"T_ec9cd_row7_col4\" class=\"data row7 col4\" >0.042163</td>\n",
              "      <td id=\"T_ec9cd_row7_col5\" class=\"data row7 col5\" >0.036242</td>\n",
              "      <td id=\"T_ec9cd_row7_col6\" class=\"data row7 col6\" >0.033561</td>\n",
              "      <td id=\"T_ec9cd_row7_col7\" class=\"data row7 col7\" >1.000000</td>\n",
              "      <td id=\"T_ec9cd_row7_col8\" class=\"data row7 col8\" >0.238356</td>\n",
              "    </tr>\n",
              "    <tr>\n",
              "      <th id=\"T_ec9cd_level0_row8\" class=\"row_heading level0 row8\" >Outcome</th>\n",
              "      <td id=\"T_ec9cd_row8_col0\" class=\"data row8 col0\" >0.221898</td>\n",
              "      <td id=\"T_ec9cd_row8_col1\" class=\"data row8 col1\" >0.466581</td>\n",
              "      <td id=\"T_ec9cd_row8_col2\" class=\"data row8 col2\" >0.065068</td>\n",
              "      <td id=\"T_ec9cd_row8_col3\" class=\"data row8 col3\" >0.074752</td>\n",
              "      <td id=\"T_ec9cd_row8_col4\" class=\"data row8 col4\" >0.130548</td>\n",
              "      <td id=\"T_ec9cd_row8_col5\" class=\"data row8 col5\" >0.292695</td>\n",
              "      <td id=\"T_ec9cd_row8_col6\" class=\"data row8 col6\" >0.173844</td>\n",
              "      <td id=\"T_ec9cd_row8_col7\" class=\"data row8 col7\" >0.238356</td>\n",
              "      <td id=\"T_ec9cd_row8_col8\" class=\"data row8 col8\" >1.000000</td>\n",
              "    </tr>\n",
              "  </tbody>\n",
              "</table>\n"
            ]
          },
          "metadata": {},
          "execution_count": 156
        }
      ]
    },
    {
      "cell_type": "code",
      "source": [
        "df.corrwith(df['Outcome']).abs().sort_values(ascending=False)"
      ],
      "metadata": {
        "colab": {
          "base_uri": "https://localhost:8080/"
        },
        "id": "Sqot58uHTwWa",
        "outputId": "b1d138f2-6d39-437d-ca13-6a4c24934988"
      },
      "execution_count": 157,
      "outputs": [
        {
          "output_type": "execute_result",
          "data": {
            "text/plain": [
              "Outcome                     1.000000\n",
              "Glucose                     0.466581\n",
              "BMI                         0.292695\n",
              "Age                         0.238356\n",
              "Pregnancies                 0.221898\n",
              "DiabetesPedigreeFunction    0.173844\n",
              "Insulin                     0.130548\n",
              "SkinThickness               0.074752\n",
              "BloodPressure               0.065068\n",
              "dtype: float64"
            ]
          },
          "metadata": {},
          "execution_count": 157
        }
      ]
    },
    {
      "cell_type": "code",
      "source": [
        "X = df.drop('Outcome', axis=1).values\n",
        "y = df['Outcome']"
      ],
      "metadata": {
        "id": "lTF2MGQTUDGf"
      },
      "execution_count": 158,
      "outputs": []
    },
    {
      "cell_type": "code",
      "source": [
        "from sklearn.preprocessing import StandardScaler\n",
        "\n",
        "scaler = StandardScaler()\n",
        "X = scaler.fit_transform(X)"
      ],
      "metadata": {
        "id": "Xs0weSkiUwly"
      },
      "execution_count": 159,
      "outputs": []
    },
    {
      "cell_type": "code",
      "source": [
        ""
      ],
      "metadata": {
        "id": "bZdjLa0zU6t2"
      },
      "execution_count": 159,
      "outputs": []
    },
    {
      "cell_type": "code",
      "source": [
        "from sklearn.model_selection import train_test_split\n",
        "\n",
        "X_train, X_test, y_train, y_test = train_test_split(X,y, test_size=0.1, random_state=12)\n",
        "\n",
        "# k-NN\n",
        "from sklearn.neighbors import KNeighborsClassifier\n",
        "knn = KNeighborsClassifier(n_neighbors=17) # k-ni qiymati\n",
        "\n",
        "knn.fit(X_train, y_train)"
      ],
      "metadata": {
        "colab": {
          "base_uri": "https://localhost:8080/"
        },
        "id": "xh8OjqCNU1jG",
        "outputId": "fce4bb11-3444-4ce8-82d3-06a12bfd9dbe"
      },
      "execution_count": 160,
      "outputs": [
        {
          "output_type": "execute_result",
          "data": {
            "text/plain": [
              "KNeighborsClassifier(n_neighbors=17)"
            ]
          },
          "metadata": {},
          "execution_count": 160
        }
      ]
    },
    {
      "cell_type": "code",
      "source": [
        "from sklearn.model_selection import GridSearchCV\n",
        "\n",
        "param_grid = {'n_neighbors': np.arange(1, 25)}\n",
        "\n",
        "knn_gscv = GridSearchCV(knn, param_grid, cv=5)\n",
        "\n",
        "knn_gscv.fit(X, y)"
      ],
      "metadata": {
        "colab": {
          "base_uri": "https://localhost:8080/"
        },
        "id": "-VtsjR7AVGr0",
        "outputId": "127ef2f9-54d2-462d-bad2-aa30b2de6d84"
      },
      "execution_count": 161,
      "outputs": [
        {
          "output_type": "execute_result",
          "data": {
            "text/plain": [
              "GridSearchCV(cv=5, estimator=KNeighborsClassifier(n_neighbors=17),\n",
              "             param_grid={'n_neighbors': array([ 1,  2,  3,  4,  5,  6,  7,  8,  9, 10, 11, 12, 13, 14, 15, 16, 17,\n",
              "       18, 19, 20, 21, 22, 23, 24])})"
            ]
          },
          "metadata": {},
          "execution_count": 161
        }
      ]
    },
    {
      "cell_type": "code",
      "source": [
        "knn_gscv.best_params_"
      ],
      "metadata": {
        "colab": {
          "base_uri": "https://localhost:8080/"
        },
        "id": "01n1_YDxVI3t",
        "outputId": "cc9ddbc9-3904-44c8-d821-b5e4d7425589"
      },
      "execution_count": 162,
      "outputs": [
        {
          "output_type": "execute_result",
          "data": {
            "text/plain": [
              "{'n_neighbors': 17}"
            ]
          },
          "metadata": {},
          "execution_count": 162
        }
      ]
    },
    {
      "cell_type": "code",
      "source": [
        "y_predict = knn.predict(X_test)"
      ],
      "metadata": {
        "id": "-e-vDkG8VThS"
      },
      "execution_count": 163,
      "outputs": []
    },
    {
      "cell_type": "code",
      "source": [
        "from sklearn.metrics import jaccard_score\n",
        "\n",
        "jaccard_score(y_test, y_predict)"
      ],
      "metadata": {
        "colab": {
          "base_uri": "https://localhost:8080/"
        },
        "id": "IIm0nf9kVUHB",
        "outputId": "bdb1a9d1-ab40-460d-cc3e-321be62808e2"
      },
      "execution_count": 164,
      "outputs": [
        {
          "output_type": "execute_result",
          "data": {
            "text/plain": [
              "0.6060606060606061"
            ]
          },
          "metadata": {},
          "execution_count": 164
        }
      ]
    },
    {
      "cell_type": "code",
      "source": [
        "from sklearn.metrics import confusion_matrix\n",
        "import seaborn as sns\n",
        "import matplotlib.pyplot as plt\n",
        "\n",
        "sns.heatmap(confusion_matrix(y_test, y_predict), annot=True)\n",
        "plt.show()"
      ],
      "metadata": {
        "colab": {
          "base_uri": "https://localhost:8080/",
          "height": 265
        },
        "id": "G100B8glVXc0",
        "outputId": "3830f3b1-b2f5-464a-98d8-4076dcdfd8c6"
      },
      "execution_count": 165,
      "outputs": [
        {
          "output_type": "display_data",
          "data": {
            "text/plain": [
              "<Figure size 432x288 with 2 Axes>"
            ],
            "image/png": "[encoded data removed]"
          },
          "metadata": {
            "needs_background": "light"
          }
        }
      ]
    },
    {
      "cell_type": "code",
      "source": [
        "from sklearn.metrics import precision_score, recall_score, f1_score, accuracy_score\n",
        "precision = precision_score(y_test, y_predict)\n",
        "recall = recall_score(y_test, y_predict)\n",
        "f1 = f1_score(y_test, y_predict)\n",
        "accuracy = accuracy_score(y_test, y_predict)\n",
        "print(f\"precision={precision}\\nrecall={recall}\\nf1={f1}\\naccuracy={accuracy}\")"
      ],
      "metadata": {
        "colab": {
          "base_uri": "https://localhost:8080/"
        },
        "id": "dr-5g3guVbg_",
        "outputId": "70d55e92-7d38-47a1-f8fe-e0b7349bae20"
      },
      "execution_count": 166,
      "outputs": [
        {
          "output_type": "stream",
          "name": "stdout",
          "text": [
            "precision=0.8\n",
            "recall=0.7142857142857143\n",
            "f1=0.7547169811320756\n",
            "accuracy=0.8311688311688312\n"
          ]
        }
      ]
    },
    {
      "cell_type": "code",
      "source": [
        "from sklearn.metrics import classification_report\n",
        "print(classification_report(y_test, y_predict))"
      ],
      "metadata": {
        "colab": {
          "base_uri": "https://localhost:8080/"
        },
        "id": "5P8cSjIGWqy2",
        "outputId": "6b730344-53f1-491f-a21e-4d4ef471e129"
      },
      "execution_count": 167,
      "outputs": [
        {
          "output_type": "stream",
          "name": "stdout",
          "text": [
            "              precision    recall  f1-score   support\n",
            "\n",
            "           0       0.85      0.90      0.87        49\n",
            "           1       0.80      0.71      0.75        28\n",
            "\n",
            "    accuracy                           0.83        77\n",
            "   macro avg       0.82      0.81      0.81        77\n",
            "weighted avg       0.83      0.83      0.83        77\n",
            "\n"
          ]
        }
      ]
    },
    {
      "cell_type": "code",
      "source": [
        "# Cross validation\n",
        "from sklearn.model_selection import cross_val_predict\n",
        "predict = cross_val_predict(estimator = knn, X = X, y = y, cv = 5)\n",
        "\n",
        "# Modelni baholash\n",
        "from sklearn.metrics import classification_report\n",
        "print(\"Classification Report: \\n\",classification_report(y, predict))"
      ],
      "metadata": {
        "colab": {
          "base_uri": "https://localhost:8080/"
        },
        "id": "Eo7KGi5XWsX6",
        "outputId": "a6394734-c12a-4f9b-c540-f91a293e3200"
      },
      "execution_count": 168,
      "outputs": [
        {
          "output_type": "stream",
          "name": "stdout",
          "text": [
            "Classification Report: \n",
            "               precision    recall  f1-score   support\n",
            "\n",
            "           0       0.78      0.89      0.83       500\n",
            "           1       0.72      0.54      0.62       268\n",
            "\n",
            "    accuracy                           0.77       768\n",
            "   macro avg       0.75      0.71      0.73       768\n",
            "weighted avg       0.76      0.77      0.76       768\n",
            "\n"
          ]
        }
      ]
    }
  ]
}